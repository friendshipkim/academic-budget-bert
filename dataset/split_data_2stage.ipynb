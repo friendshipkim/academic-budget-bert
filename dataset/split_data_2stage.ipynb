{
 "cells": [
  {
   "cell_type": "code",
   "execution_count": 27,
   "metadata": {},
   "outputs": [],
   "source": [
    "import os\n",
    "import random\n",
    "import shutil\n",
    "import glob\n",
    "from tqdm import tqdm"
   ]
  },
  {
   "cell_type": "code",
   "execution_count": 40,
   "metadata": {},
   "outputs": [],
   "source": [
    "base_path = \"/home/wk247/data/enwiki_books_128_20_ver2\"\n",
    "dst_path = \"/home/wk247/data/enwiki_books_128_20_ver3\"\n",
    "seed = 33\n",
    "remain_count = 500\n",
    "step1_count = 300\n",
    "step2_count = 470\n",
    "finetune_count = 10"
   ]
  },
  {
   "cell_type": "code",
   "execution_count": 43,
   "metadata": {},
   "outputs": [
    {
     "name": "stdout",
     "output_type": "stream",
     "text": [
      "Set 0 - total training files: 1280, val: 64\n",
      "copy shards to /home/wk247/data/enwiki_books_128_20_ver3/set0_500\n"
     ]
    },
    {
     "name": "stderr",
     "output_type": "stream",
     "text": [
      "100%|██████████| 500/500 [01:00<00:00,  8.23it/s]\n",
      "100%|██████████| 64/64 [00:01<00:00, 34.03it/s]\n"
     ]
    },
    {
     "name": "stdout",
     "output_type": "stream",
     "text": [
      "copy shards to /home/wk247/data/enwiki_books_128_20_ver3/step1_1200\n"
     ]
    },
    {
     "name": "stderr",
     "output_type": "stream",
     "text": [
      "100%|██████████| 300/300 [01:50<00:00,  2.71it/s]\n",
      "100%|██████████| 64/64 [00:02<00:00, 31.54it/s]\n"
     ]
    },
    {
     "name": "stdout",
     "output_type": "stream",
     "text": [
      "copy shards to /home/wk247/data/enwiki_books_128_20_ver3/step2_1880\n"
     ]
    },
    {
     "name": "stderr",
     "output_type": "stream",
     "text": [
      "100%|██████████| 470/470 [02:44<00:00,  2.86it/s]\n",
      "100%|██████████| 64/64 [00:02<00:00, 29.65it/s]\n"
     ]
    },
    {
     "name": "stdout",
     "output_type": "stream",
     "text": [
      "copy shards to /home/wk247/data/enwiki_books_128_20_ver3/finetune\n"
     ]
    },
    {
     "name": "stderr",
     "output_type": "stream",
     "text": [
      "100%|██████████| 10/10 [00:06<00:00,  1.46it/s]\n",
      "100%|██████████| 64/64 [00:01<00:00, 33.04it/s]\n"
     ]
    },
    {
     "name": "stdout",
     "output_type": "stream",
     "text": [
      "Set 1 - total training files: 1280, val: 64\n",
      "copy shards to /home/wk247/data/enwiki_books_128_20_ver3/set1_500\n"
     ]
    },
    {
     "name": "stderr",
     "output_type": "stream",
     "text": [
      "100%|██████████| 500/500 [02:02<00:00,  4.09it/s]\n",
      "100%|██████████| 64/64 [00:05<00:00, 11.55it/s]\n"
     ]
    },
    {
     "name": "stdout",
     "output_type": "stream",
     "text": [
      "copy shards to /home/wk247/data/enwiki_books_128_20_ver3/step1_1200\n"
     ]
    },
    {
     "name": "stderr",
     "output_type": "stream",
     "text": [
      "100%|██████████| 300/300 [01:51<00:00,  2.69it/s]\n"
     ]
    },
    {
     "name": "stdout",
     "output_type": "stream",
     "text": [
      "copy shards to /home/wk247/data/enwiki_books_128_20_ver3/step2_1880\n"
     ]
    },
    {
     "name": "stderr",
     "output_type": "stream",
     "text": [
      "100%|██████████| 470/470 [02:57<00:00,  2.65it/s]\n"
     ]
    },
    {
     "name": "stdout",
     "output_type": "stream",
     "text": [
      "copy shards to /home/wk247/data/enwiki_books_128_20_ver3/finetune\n"
     ]
    },
    {
     "name": "stderr",
     "output_type": "stream",
     "text": [
      "100%|██████████| 10/10 [00:01<00:00,  6.02it/s]\n"
     ]
    },
    {
     "name": "stdout",
     "output_type": "stream",
     "text": [
      "Set 2 - total training files: 1280, val: 64\n",
      "copy shards to /home/wk247/data/enwiki_books_128_20_ver3/set2_500\n"
     ]
    },
    {
     "name": "stderr",
     "output_type": "stream",
     "text": [
      "100%|██████████| 500/500 [03:04<00:00,  2.70it/s]\n",
      "100%|██████████| 64/64 [00:05<00:00, 10.72it/s]\n"
     ]
    },
    {
     "name": "stdout",
     "output_type": "stream",
     "text": [
      "copy shards to /home/wk247/data/enwiki_books_128_20_ver3/step1_1200\n"
     ]
    },
    {
     "name": "stderr",
     "output_type": "stream",
     "text": [
      "100%|██████████| 300/300 [02:06<00:00,  2.38it/s]\n"
     ]
    },
    {
     "name": "stdout",
     "output_type": "stream",
     "text": [
      "copy shards to /home/wk247/data/enwiki_books_128_20_ver3/step2_1880\n"
     ]
    },
    {
     "name": "stderr",
     "output_type": "stream",
     "text": [
      "100%|██████████| 470/470 [02:44<00:00,  2.85it/s]\n"
     ]
    },
    {
     "name": "stdout",
     "output_type": "stream",
     "text": [
      "copy shards to /home/wk247/data/enwiki_books_128_20_ver3/finetune\n"
     ]
    },
    {
     "name": "stderr",
     "output_type": "stream",
     "text": [
      "100%|██████████| 10/10 [00:02<00:00,  4.60it/s]\n"
     ]
    },
    {
     "name": "stdout",
     "output_type": "stream",
     "text": [
      "Set 3 - total training files: 1280, val: 64\n",
      "copy shards to /home/wk247/data/enwiki_books_128_20_ver3/set3_500\n"
     ]
    },
    {
     "name": "stderr",
     "output_type": "stream",
     "text": [
      "100%|██████████| 500/500 [02:40<00:00,  3.12it/s]\n",
      "100%|██████████| 64/64 [00:04<00:00, 13.51it/s]\n"
     ]
    },
    {
     "name": "stdout",
     "output_type": "stream",
     "text": [
      "copy shards to /home/wk247/data/enwiki_books_128_20_ver3/step1_1200\n"
     ]
    },
    {
     "name": "stderr",
     "output_type": "stream",
     "text": [
      "100%|██████████| 300/300 [02:00<00:00,  2.50it/s]\n"
     ]
    },
    {
     "name": "stdout",
     "output_type": "stream",
     "text": [
      "copy shards to /home/wk247/data/enwiki_books_128_20_ver3/step2_1880\n"
     ]
    },
    {
     "name": "stderr",
     "output_type": "stream",
     "text": [
      "100%|██████████| 470/470 [02:53<00:00,  2.70it/s]\n"
     ]
    },
    {
     "name": "stdout",
     "output_type": "stream",
     "text": [
      "copy shards to /home/wk247/data/enwiki_books_128_20_ver3/finetune\n"
     ]
    },
    {
     "name": "stderr",
     "output_type": "stream",
     "text": [
      "100%|██████████| 10/10 [00:04<00:00,  2.41it/s]\n"
     ]
    }
   ],
   "source": [
    "for i in range(4):\n",
    "    # get file lists\n",
    "    path = os.path.join(base_path, f\"set{i}\")\n",
    "    train_file_list = sorted(glob.glob(os.path.join(path, \"train_*.hdf5\")))\n",
    "    val_file_list = sorted(glob.glob(os.path.join(path, \"test_*.hdf5\")))\n",
    "    print(f\"Set {i} - total training files: {len(train_file_list)}, val: {len(val_file_list)}\")\n",
    "    \n",
    "    assert len(train_file_list) == remain_count + step1_count + step2_count + finetune_count, f\"train_file_list: {len(train_file_list)}\"\n",
    "\n",
    "    # check duplicates\n",
    "    index_list = sorted(\n",
    "        [int(train_filename.split(\"/\")[-1].replace(\".hdf5\", \"\").split(\"_\")[2]) for train_filename in train_file_list]\n",
    "    )\n",
    "    duplicates = [index for index in index_list if index_list.count(index) > 1]\n",
    "    assert len(duplicates) == 0, f\"Duplicate files exist: {duplicates}\"\n",
    "    \n",
    "    # random shuffle\n",
    "    random.seed(seed)\n",
    "    random.shuffle(train_file_list)\n",
    "    remain_train_shards = train_file_list[:remain_count]\n",
    "    move_train_shards = train_file_list[remain_count:]\n",
    "    \n",
    "    # remain dst path\n",
    "    remain_dst_path = os.path.join(dst_path, f\"set{i}_{remain_count}\")\n",
    "    os.makedirs(remain_dst_path, exist_ok=False)\n",
    "    print(f\"copy shards to {remain_dst_path}\")\n",
    "    \n",
    "    for train_file in tqdm(remain_train_shards):\n",
    "        shutil.copy(train_file, remain_dst_path)\n",
    "    for val_file in tqdm(val_file_list):\n",
    "        shutil.copy(val_file, remain_dst_path)\n",
    "        \n",
    "    # step1 dst path\n",
    "    move_dst_path = os.path.join(dst_path, f\"step1_{step1_count*4}\")\n",
    "    if i == 0: os.makedirs(move_dst_path, exist_ok=False)\n",
    "    print(f\"copy shards to {move_dst_path}\")\n",
    "    \n",
    "    for train_file in tqdm(move_train_shards[:step1_count]):\n",
    "        shutil.copy(train_file, move_dst_path)\n",
    "    if i == 0:\n",
    "        for val_file in tqdm(val_file_list):\n",
    "            shutil.copy(val_file, move_dst_path)\n",
    "    \n",
    "    move_train_shards = move_train_shards[step1_count:]\n",
    "        \n",
    "    # step2 dst path\n",
    "    move_dst_path = os.path.join(dst_path, f\"step2_{step2_count*4}\")\n",
    "    if i == 0: os.makedirs(move_dst_path, exist_ok=False)\n",
    "    print(f\"copy shards to {move_dst_path}\")\n",
    "    \n",
    "    for train_file in tqdm(move_train_shards[:step2_count]):\n",
    "        shutil.copy(train_file, move_dst_path)\n",
    "    if i == 0:\n",
    "        for val_file in tqdm(val_file_list):\n",
    "            shutil.copy(val_file, move_dst_path)\n",
    "        \n",
    "    move_train_shards = move_train_shards[step2_count:]\n",
    "    \n",
    "    \n",
    "    # finetune dst path\n",
    "    move_dst_path = os.path.join(dst_path, f\"finetune_{finetune_count*4}\")\n",
    "    if i == 0: os.makedirs(move_dst_path, exist_ok=False)\n",
    "    print(f\"copy shards to {move_dst_path}\")\n",
    "    \n",
    "    for train_file in tqdm(move_train_shards[:finetune_count]):\n",
    "        shutil.copy(train_file, move_dst_path)\n",
    "    if i == 0:\n",
    "        for val_file in tqdm(val_file_list):\n",
    "            shutil.copy(val_file, move_dst_path)\n",
    "        \n",
    "    move_train_shards = move_train_shards[finetune_count:]\n",
    "    \n",
    "    # move train shared should be empty\n",
    "    assert len(move_train_shards) == 0, f\"move_train_shards: {len(move_train_shards)}\""
   ]
  },
  {
   "cell_type": "code",
   "execution_count": 35,
   "metadata": {},
   "outputs": [
    {
     "data": {
      "text/plain": [
       "1880"
      ]
     },
     "execution_count": 35,
     "metadata": {},
     "output_type": "execute_result"
    }
   ],
   "source": [
    "470*4"
   ]
  },
  {
   "cell_type": "code",
   "execution_count": null,
   "metadata": {},
   "outputs": [],
   "source": []
  }
 ],
 "metadata": {
  "kernelspec": {
   "display_name": "pretrain",
   "language": "python",
   "name": "python3"
  },
  "language_info": {
   "codemirror_mode": {
    "name": "ipython",
    "version": 3
   },
   "file_extension": ".py",
   "mimetype": "text/x-python",
   "name": "python",
   "nbconvert_exporter": "python",
   "pygments_lexer": "ipython3",
   "version": "3.8.15"
  },
  "orig_nbformat": 4
 },
 "nbformat": 4,
 "nbformat_minor": 2
}
